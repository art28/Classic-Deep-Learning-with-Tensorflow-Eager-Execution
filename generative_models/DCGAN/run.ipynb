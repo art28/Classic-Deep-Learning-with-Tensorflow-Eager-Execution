{
 "cells": [
  {
   "cell_type": "code",
   "execution_count": null,
   "metadata": {},
   "outputs": [],
   "source": [
    "import numpy as np\n",
    "import tensorflow as tf\n",
    "import tensorflow.contrib.eager as tfe\n",
    "import matplotlib.pyplot as plt\n",
    "\n",
    "%matplotlib inline\n",
    "\n",
    "tfe.enable_eager_execution(device_policy = tfe.DEVICE_PLACEMENT_SILENT)"
   ]
  },
  {
   "cell_type": "code",
   "execution_count": null,
   "metadata": {},
   "outputs": [],
   "source": [
    "from model import DCGAN"
   ]
  },
  {
   "cell_type": "code",
   "execution_count": null,
   "metadata": {},
   "outputs": [],
   "source": [
    "device = 'gpu:0' if tfe.num_gpus() > 0 else 'cpu:0'"
   ]
  },
  {
   "cell_type": "code",
   "execution_count": null,
   "metadata": {},
   "outputs": [],
   "source": [
    "noise_dim = 30\n",
    "output_dim = (28,28,1)"
   ]
  },
  {
   "cell_type": "code",
   "execution_count": null,
   "metadata": {},
   "outputs": [],
   "source": [
    "dcgan = DCGAN(noise_dim=noise_dim, output_dim = output_dim, device_name=device, learning_rate=0.0002)"
   ]
  },
  {
   "cell_type": "code",
   "execution_count": null,
   "metadata": {},
   "outputs": [],
   "source": [
    "# if you already have pretrained model\n",
    "# dcgan.load(global_step=\"latest\")"
   ]
  },
  {
   "cell_type": "code",
   "execution_count": null,
   "metadata": {},
   "outputs": [],
   "source": [
    "from tensorflow.python.keras.datasets import mnist\n",
    "\n",
    "(x_train, y_train), (x_test, y_test) = mnist.load_data()\n",
    "x_train = x_train.astype('float32') / 255.\n",
    "x_train = x_train.reshape((x_train.shape[0], 28 , 28 , 1))\n",
    "ds_train = tf.data.Dataset.from_tensor_slices((x_train,))\n"
   ]
  },
  {
   "cell_type": "code",
   "execution_count": null,
   "metadata": {},
   "outputs": [],
   "source": [
    "def origtest():\n",
    "#     testset = x_test[:10,:,:]      \n",
    "#     img_orig = testset.reshape(-1,28,28)\n",
    "#     img_orig = np.concatenate(img_orig, axis=1)\n",
    "       \n",
    "#     input_test = testset.astype('float32')/255.\n",
    "#     input_test = input_test.reshape(-1, 28*28)\n",
    "#     input_test = tf.convert_to_tensor(input_test)\n",
    "    \n",
    "#     z_mu, z_logsigma  = vae.encoding(input_test)\n",
    "#     z = vae.sampling_z(z_mu, z_logsigma)\n",
    "    Z = tf.random_normal((10, noise_dim))\n",
    "    img_test = dcgan.generator(Z, False)\n",
    "#     img_test = tf.nn.sigmoid(img_test)\n",
    "    img_test = img_test.numpy().reshape(-1,28,28)\n",
    "    img_test = np.concatenate(img_test, axis=1)\n",
    "            \n",
    "#     plt.imshow(img_orig)\n",
    "#     plt.show()\n",
    "    plt.imshow(img_test)\n",
    "    plt.show()"
   ]
  },
  {
   "cell_type": "code",
   "execution_count": null,
   "metadata": {},
   "outputs": [],
   "source": [
    "origtest()"
   ]
  },
  {
   "cell_type": "code",
   "execution_count": null,
   "metadata": {},
   "outputs": [],
   "source": [
    "# if you want to train\n",
    "for i in range(20):\n",
    "    dcgan.fit(ds_train, saving=True, epochs=2, gen_step=0, dis_step=1, batch_size=128, verbose=1)\n",
    "    origtest()"
   ]
  },
  {
   "cell_type": "code",
   "execution_count": null,
   "metadata": {},
   "outputs": [],
   "source": [
    "# if you want to train\n",
    "for i in range(200):\n",
    "    dcgan.fit(ds_train, saving=True, epochs=10, gen_step=0, dis_step=1, batch_size=128, verbose=1)\n",
    "    origtest()"
   ]
  },
  {
   "cell_type": "code",
   "execution_count": null,
   "metadata": {},
   "outputs": [],
   "source": []
  }
 ],
 "metadata": {
  "kernelspec": {
   "display_name": "Python 3",
   "language": "python",
   "name": "python3"
  },
  "language_info": {
   "codemirror_mode": {
    "name": "ipython",
    "version": 3
   },
   "file_extension": ".py",
   "mimetype": "text/x-python",
   "name": "python",
   "nbconvert_exporter": "python",
   "pygments_lexer": "ipython3",
   "version": "3.5.2"
  }
 },
 "nbformat": 4,
 "nbformat_minor": 2
}
